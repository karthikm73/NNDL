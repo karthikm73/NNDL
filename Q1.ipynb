{
 "cells": [
  {
   "cell_type": "code",
   "execution_count": 7,
   "id": "99864404-c7f4-44eb-b531-2fc9993394ec",
   "metadata": {},
   "outputs": [
    {
     "name": "stdout",
     "output_type": "stream",
     "text": [
      "0.0 Predicted : 0\n",
      "0.005054 Predicted : 0\n",
      "0.005054 Predicted : 0\n",
      "0.992926 Predicted : 1\n"
     ]
    }
   ],
   "source": [
    "import numpy as np\n",
    "\n",
    "x = np.array([[0,0],[0,1],[1,0],[1,1]])\n",
    "y = np.array([0,0,0,1])\n",
    "\n",
    "w1=0.1\n",
    "w2=0.9\n",
    "bias=0.25\n",
    "l=0.01\n",
    "\n",
    "def sigmoid(x):\n",
    "    return 1/(1 + np.exp(-x)) \n",
    "    \n",
    "for j in range(100000):\n",
    "    \n",
    "    for i in range(4):\n",
    "        ans = x[i][0]*w1 + x[i][1]*w2+bias\n",
    "        result = sigmoid(ans)\n",
    "\n",
    "        w1 = w1 + (l * (y[i] - result)*x[i][0])\n",
    "        w2 = w2 + (l * (y[i] - result)* x[i][1])\n",
    "        bias= bias + l*(y[i]-result)\n",
    "    \n",
    "for i in range(4):\n",
    "    ans = x[i][0]*w1 + x[i][1]*w2 +bias\n",
    "    result = sigmoid(ans)\n",
    "    rounded_number = round(result, 6)\n",
    "\n",
    "\n",
    "    print(f\"{rounded_number} Predicted : {1 if rounded_number>0.5 else 0}\")\n",
    "\n",
    "       \n",
    "        \n",
    "        \n",
    "        \n"
   ]
  },
  {
   "cell_type": "code",
   "execution_count": null,
   "id": "6c2a592f-c29f-4bda-a563-2fc4c3c3d473",
   "metadata": {},
   "outputs": [],
   "source": []
  }
 ],
 "metadata": {
  "kernelspec": {
   "display_name": "Python 3 (ipykernel)",
   "language": "python",
   "name": "python3"
  },
  "language_info": {
   "codemirror_mode": {
    "name": "ipython",
    "version": 3
   },
   "file_extension": ".py",
   "mimetype": "text/x-python",
   "name": "python",
   "nbconvert_exporter": "python",
   "pygments_lexer": "ipython3",
   "version": "3.12.4"
  }
 },
 "nbformat": 4,
 "nbformat_minor": 5
}
